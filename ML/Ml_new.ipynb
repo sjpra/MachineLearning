{
 "cells": [
  {
   "cell_type": "code",
   "execution_count": 1,
   "metadata": {
    "collapsed": true
   },
   "outputs": [],
   "source": [
    "import pandas as pd\n",
    "import numpy as np"
   ]
  },
  {
   "cell_type": "code",
   "execution_count": 2,
   "metadata": {
    "collapsed": true
   },
   "outputs": [],
   "source": [
    "df = pd.read_csv(\"MLdatanew.csv\")"
   ]
  },
  {
   "cell_type": "code",
   "execution_count": 3,
   "metadata": {},
   "outputs": [
    {
     "data": {
      "text/html": [
       "<div>\n",
       "<style>\n",
       "    .dataframe thead tr:only-child th {\n",
       "        text-align: right;\n",
       "    }\n",
       "\n",
       "    .dataframe thead th {\n",
       "        text-align: left;\n",
       "    }\n",
       "\n",
       "    .dataframe tbody tr th {\n",
       "        vertical-align: top;\n",
       "    }\n",
       "</style>\n",
       "<table border=\"1\" class=\"dataframe\">\n",
       "  <thead>\n",
       "    <tr style=\"text-align: right;\">\n",
       "      <th></th>\n",
       "      <th>loan_amnt</th>\n",
       "      <th>funded_amnt</th>\n",
       "      <th>funded_amnt_inv</th>\n",
       "      <th>term</th>\n",
       "      <th>int_rate</th>\n",
       "      <th>grade</th>\n",
       "      <th>sub_grade</th>\n",
       "      <th>purpose</th>\n",
       "      <th>title</th>\n",
       "    </tr>\n",
       "  </thead>\n",
       "  <tbody>\n",
       "    <tr>\n",
       "      <th>0</th>\n",
       "      <td>25000</td>\n",
       "      <td>25000</td>\n",
       "      <td>25000</td>\n",
       "      <td>60 months</td>\n",
       "      <td>15.05%</td>\n",
       "      <td>C</td>\n",
       "      <td>C4</td>\n",
       "      <td>credit_card</td>\n",
       "      <td>Credit card refinancing</td>\n",
       "    </tr>\n",
       "    <tr>\n",
       "      <th>1</th>\n",
       "      <td>26000</td>\n",
       "      <td>26000</td>\n",
       "      <td>26000</td>\n",
       "      <td>36 months</td>\n",
       "      <td>9.93%</td>\n",
       "      <td>B</td>\n",
       "      <td>B2</td>\n",
       "      <td>home_improvement</td>\n",
       "      <td>Home improvement</td>\n",
       "    </tr>\n",
       "    <tr>\n",
       "      <th>2</th>\n",
       "      <td>20000</td>\n",
       "      <td>20000</td>\n",
       "      <td>20000</td>\n",
       "      <td>36 months</td>\n",
       "      <td>9.44%</td>\n",
       "      <td>B</td>\n",
       "      <td>B1</td>\n",
       "      <td>credit_card</td>\n",
       "      <td>Credit card refinancing</td>\n",
       "    </tr>\n",
       "    <tr>\n",
       "      <th>3</th>\n",
       "      <td>10000</td>\n",
       "      <td>10000</td>\n",
       "      <td>10000</td>\n",
       "      <td>36 months</td>\n",
       "      <td>7.21%</td>\n",
       "      <td>A</td>\n",
       "      <td>A3</td>\n",
       "      <td>credit_card</td>\n",
       "      <td>Credit card refinancing</td>\n",
       "    </tr>\n",
       "    <tr>\n",
       "      <th>4</th>\n",
       "      <td>15000</td>\n",
       "      <td>15000</td>\n",
       "      <td>15000</td>\n",
       "      <td>36 months</td>\n",
       "      <td>7.97%</td>\n",
       "      <td>A</td>\n",
       "      <td>A5</td>\n",
       "      <td>debt_consolidation</td>\n",
       "      <td>Debt consolidation</td>\n",
       "    </tr>\n",
       "  </tbody>\n",
       "</table>\n",
       "</div>"
      ],
      "text/plain": [
       "   loan_amnt  funded_amnt  funded_amnt_inv        term int_rate grade  \\\n",
       "0      25000        25000            25000   60 months   15.05%     C   \n",
       "1      26000        26000            26000   36 months    9.93%     B   \n",
       "2      20000        20000            20000   36 months    9.44%     B   \n",
       "3      10000        10000            10000   36 months    7.21%     A   \n",
       "4      15000        15000            15000   36 months    7.97%     A   \n",
       "\n",
       "  sub_grade             purpose                    title  \n",
       "0        C4         credit_card  Credit card refinancing  \n",
       "1        B2    home_improvement         Home improvement  \n",
       "2        B1         credit_card  Credit card refinancing  \n",
       "3        A3         credit_card  Credit card refinancing  \n",
       "4        A5  debt_consolidation       Debt consolidation  "
      ]
     },
     "execution_count": 3,
     "metadata": {},
     "output_type": "execute_result"
    }
   ],
   "source": [
    "df.head()"
   ]
  },
  {
   "cell_type": "code",
   "execution_count": 4,
   "metadata": {
    "collapsed": true
   },
   "outputs": [],
   "source": [
    "#Capitalize Purpose\n",
    "purpose_c = lambda x: x.upper()"
   ]
  },
  {
   "cell_type": "code",
   "execution_count": 5,
   "metadata": {},
   "outputs": [
    {
     "data": {
      "text/plain": [
       "0            CREDIT_CARD\n",
       "1       HOME_IMPROVEMENT\n",
       "2            CREDIT_CARD\n",
       "3            CREDIT_CARD\n",
       "4     DEBT_CONSOLIDATION\n",
       "5                MEDICAL\n",
       "6     DEBT_CONSOLIDATION\n",
       "7            CREDIT_CARD\n",
       "8            CREDIT_CARD\n",
       "9     DEBT_CONSOLIDATION\n",
       "10    DEBT_CONSOLIDATION\n",
       "11    DEBT_CONSOLIDATION\n",
       "12                 HOUSE\n",
       "13                 OTHER\n",
       "14                   CAR\n",
       "15    DEBT_CONSOLIDATION\n",
       "16           CREDIT_CARD\n",
       "17      HOME_IMPROVEMENT\n",
       "18        MAJOR_PURCHASE\n",
       "19              VACATION\n",
       "20    DEBT_CONSOLIDATION\n",
       "21           CREDIT_CARD\n",
       "22              VACATION\n",
       "23    DEBT_CONSOLIDATION\n",
       "24           CREDIT_CARD\n",
       "25    DEBT_CONSOLIDATION\n",
       "26    DEBT_CONSOLIDATION\n",
       "27      HOME_IMPROVEMENT\n",
       "28               MEDICAL\n",
       "29    DEBT_CONSOLIDATION\n",
       "30    DEBT_CONSOLIDATION\n",
       "31                   CAR\n",
       "32    DEBT_CONSOLIDATION\n",
       "33           CREDIT_CARD\n",
       "34        MAJOR_PURCHASE\n",
       "35    DEBT_CONSOLIDATION\n",
       "36           CREDIT_CARD\n",
       "37    DEBT_CONSOLIDATION\n",
       "38           CREDIT_CARD\n",
       "39    DEBT_CONSOLIDATION\n",
       "40    DEBT_CONSOLIDATION\n",
       "41    DEBT_CONSOLIDATION\n",
       "42    DEBT_CONSOLIDATION\n",
       "43           CREDIT_CARD\n",
       "44           CREDIT_CARD\n",
       "45    DEBT_CONSOLIDATION\n",
       "46    DEBT_CONSOLIDATION\n",
       "Name: purpose, dtype: object"
      ]
     },
     "execution_count": 5,
     "metadata": {},
     "output_type": "execute_result"
    }
   ],
   "source": [
    "df['purpose'].apply(purpose_c)"
   ]
  },
  {
   "cell_type": "code",
   "execution_count": 6,
   "metadata": {},
   "outputs": [
    {
     "data": {
      "text/plain": [
       "0            CREDIT_CARD\n",
       "1       HOME_IMPROVEMENT\n",
       "2            CREDIT_CARD\n",
       "3            CREDIT_CARD\n",
       "4     DEBT_CONSOLIDATION\n",
       "5                MEDICAL\n",
       "6     DEBT_CONSOLIDATION\n",
       "7            CREDIT_CARD\n",
       "8            CREDIT_CARD\n",
       "9     DEBT_CONSOLIDATION\n",
       "10    DEBT_CONSOLIDATION\n",
       "11    DEBT_CONSOLIDATION\n",
       "12                 HOUSE\n",
       "13                 OTHER\n",
       "14                   CAR\n",
       "15    DEBT_CONSOLIDATION\n",
       "16           CREDIT_CARD\n",
       "17      HOME_IMPROVEMENT\n",
       "18        MAJOR_PURCHASE\n",
       "19              VACATION\n",
       "20    DEBT_CONSOLIDATION\n",
       "21           CREDIT_CARD\n",
       "22              VACATION\n",
       "23    DEBT_CONSOLIDATION\n",
       "24           CREDIT_CARD\n",
       "25    DEBT_CONSOLIDATION\n",
       "26    DEBT_CONSOLIDATION\n",
       "27      HOME_IMPROVEMENT\n",
       "28               MEDICAL\n",
       "29    DEBT_CONSOLIDATION\n",
       "30    DEBT_CONSOLIDATION\n",
       "31                   CAR\n",
       "32    DEBT_CONSOLIDATION\n",
       "33           CREDIT_CARD\n",
       "34        MAJOR_PURCHASE\n",
       "35    DEBT_CONSOLIDATION\n",
       "36           CREDIT_CARD\n",
       "37    DEBT_CONSOLIDATION\n",
       "38           CREDIT_CARD\n",
       "39    DEBT_CONSOLIDATION\n",
       "40    DEBT_CONSOLIDATION\n",
       "41    DEBT_CONSOLIDATION\n",
       "42    DEBT_CONSOLIDATION\n",
       "43           CREDIT_CARD\n",
       "44           CREDIT_CARD\n",
       "45    DEBT_CONSOLIDATION\n",
       "46    DEBT_CONSOLIDATION\n",
       "Name: purpose, dtype: object"
      ]
     },
     "execution_count": 6,
     "metadata": {},
     "output_type": "execute_result"
    }
   ],
   "source": [
    "df['purpose'].map(purpose_c)"
   ]
  },
  {
   "cell_type": "code",
   "execution_count": 7,
   "metadata": {
    "collapsed": true
   },
   "outputs": [],
   "source": [
    "import seaborn as sns\n",
    "import matplotlib.pyplot as plt"
   ]
  },
  {
   "cell_type": "code",
   "execution_count": 8,
   "metadata": {
    "collapsed": true
   },
   "outputs": [],
   "source": [
    "%matplotlib inline"
   ]
  },
  {
   "cell_type": "code",
   "execution_count": 9,
   "metadata": {},
   "outputs": [
    {
     "data": {
      "text/plain": [
       "<matplotlib.axes._subplots.AxesSubplot at 0x116735fd0>"
      ]
     },
     "execution_count": 9,
     "metadata": {},
     "output_type": "execute_result"
    },
    {
     "data": {
      "image/png": "[encoded data removed]",
      "text/plain": [
       "<matplotlib.figure.Figure at 0x116735860>"
      ]
     },
     "metadata": {},
     "output_type": "display_data"
    }
   ],
   "source": [
    "sns.distplot(df['funded_amnt'])"
   ]
  },
  {
   "cell_type": "code",
   "execution_count": 10,
   "metadata": {},
   "outputs": [
    {
     "data": {
      "text/plain": [
       "<seaborn.axisgrid.JointGrid at 0x119b0ef60>"
      ]
     },
     "execution_count": 10,
     "metadata": {},
     "output_type": "execute_result"
    },
    {
     "data": {
      "image/png": "[encoded data removed]",
      "text/plain": [
       "<matplotlib.figure.Figure at 0x119b220b8>"
      ]
     },
     "metadata": {},
     "output_type": "display_data"
    }
   ],
   "source": [
    "sns.jointplot(x='loan_amnt', y='funded_amnt_inv', data =df, kind = 'kde')"
   ]
  },
  {
   "cell_type": "code",
   "execution_count": 11,
   "metadata": {},
   "outputs": [
    {
     "data": {
      "text/plain": [
       "<seaborn.axisgrid.PairGrid at 0x119be3748>"
      ]
     },
     "execution_count": 11,
     "metadata": {},
     "output_type": "execute_result"
    },
    {
     "data": {
      "image/png": "[encoded data removed]",
      "text/plain": [
       "<matplotlib.figure.Figure at 0x119be3208>"
      ]
     },
     "metadata": {},
     "output_type": "display_data"
    }
   ],
   "source": [
    "sns.pairplot(df, hue = 'grade')"
   ]
  },
  {
   "cell_type": "code",
   "execution_count": 12,
   "metadata": {
    "collapsed": true
   },
   "outputs": [],
   "source": [
    "#Regression Part 4"
   ]
  },
  {
   "cell_type": "code",
   "execution_count": 13,
   "metadata": {
    "collapsed": true
   },
   "outputs": [],
   "source": [
    "df_ml = pd.read_csv(\"ML2_new.csv\")"
   ]
  },
  {
   "cell_type": "code",
   "execution_count": 14,
   "metadata": {},
   "outputs": [
    {
     "data": {
      "text/html": [
       "<div>\n",
       "<style>\n",
       "    .dataframe thead tr:only-child th {\n",
       "        text-align: right;\n",
       "    }\n",
       "\n",
       "    .dataframe thead th {\n",
       "        text-align: left;\n",
       "    }\n",
       "\n",
       "    .dataframe tbody tr th {\n",
       "        vertical-align: top;\n",
       "    }\n",
       "</style>\n",
       "<table border=\"1\" class=\"dataframe\">\n",
       "  <thead>\n",
       "    <tr style=\"text-align: right;\">\n",
       "      <th></th>\n",
       "      <th>member_Id</th>\n",
       "      <th>loan_amnt</th>\n",
       "      <th>term</th>\n",
       "      <th>int_rate</th>\n",
       "      <th>installment</th>\n",
       "      <th>grade</th>\n",
       "      <th>sub_grade</th>\n",
       "      <th>emp_title</th>\n",
       "      <th>emp_length</th>\n",
       "      <th>home_ownership</th>\n",
       "      <th>...</th>\n",
       "      <th>delinq_2yrs</th>\n",
       "      <th>mths_since_last_delinq</th>\n",
       "      <th>revol_bal</th>\n",
       "      <th>total_rec_late_fee</th>\n",
       "      <th>recoveries</th>\n",
       "      <th>application_type</th>\n",
       "      <th>tot_coll_amt</th>\n",
       "      <th>tot_cur_bal</th>\n",
       "      <th>chargeoff_within_12_mths</th>\n",
       "      <th>delinq_amnt</th>\n",
       "    </tr>\n",
       "  </thead>\n",
       "  <tbody>\n",
       "    <tr>\n",
       "      <th>0</th>\n",
       "      <td>NaN</td>\n",
       "      <td>6000</td>\n",
       "      <td>36 months</td>\n",
       "      <td>13.99%</td>\n",
       "      <td>205.04</td>\n",
       "      <td>C</td>\n",
       "      <td>C3</td>\n",
       "      <td>Buyer</td>\n",
       "      <td>4 years</td>\n",
       "      <td>RENT</td>\n",
       "      <td>...</td>\n",
       "      <td>4</td>\n",
       "      <td>5.0</td>\n",
       "      <td>2289</td>\n",
       "      <td>0.0</td>\n",
       "      <td>0.0</td>\n",
       "      <td>Individual</td>\n",
       "      <td>71</td>\n",
       "      <td>57571</td>\n",
       "      <td>0</td>\n",
       "      <td>0</td>\n",
       "    </tr>\n",
       "    <tr>\n",
       "      <th>1</th>\n",
       "      <td>NaN</td>\n",
       "      <td>25000</td>\n",
       "      <td>60 months</td>\n",
       "      <td>14.49%</td>\n",
       "      <td>588.08</td>\n",
       "      <td>C</td>\n",
       "      <td>C4</td>\n",
       "      <td>USA</td>\n",
       "      <td>10+ years</td>\n",
       "      <td>MORTGAGE</td>\n",
       "      <td>...</td>\n",
       "      <td>0</td>\n",
       "      <td>48.0</td>\n",
       "      <td>16315</td>\n",
       "      <td>0.0</td>\n",
       "      <td>0.0</td>\n",
       "      <td>Individual</td>\n",
       "      <td>0</td>\n",
       "      <td>214917</td>\n",
       "      <td>0</td>\n",
       "      <td>0</td>\n",
       "    </tr>\n",
       "    <tr>\n",
       "      <th>2</th>\n",
       "      <td>NaN</td>\n",
       "      <td>10000</td>\n",
       "      <td>36 months</td>\n",
       "      <td>11.49%</td>\n",
       "      <td>329.72</td>\n",
       "      <td>B</td>\n",
       "      <td>B5</td>\n",
       "      <td>Teacher</td>\n",
       "      <td>10+ years</td>\n",
       "      <td>OWN</td>\n",
       "      <td>...</td>\n",
       "      <td>0</td>\n",
       "      <td>NaN</td>\n",
       "      <td>17209</td>\n",
       "      <td>0.0</td>\n",
       "      <td>0.0</td>\n",
       "      <td>Individual</td>\n",
       "      <td>1393</td>\n",
       "      <td>38085</td>\n",
       "      <td>0</td>\n",
       "      <td>0</td>\n",
       "    </tr>\n",
       "    <tr>\n",
       "      <th>3</th>\n",
       "      <td>NaN</td>\n",
       "      <td>8800</td>\n",
       "      <td>36 months</td>\n",
       "      <td>14.49%</td>\n",
       "      <td>302.87</td>\n",
       "      <td>C</td>\n",
       "      <td>C4</td>\n",
       "      <td>Customer Coordinator</td>\n",
       "      <td>5 years</td>\n",
       "      <td>RENT</td>\n",
       "      <td>...</td>\n",
       "      <td>0</td>\n",
       "      <td>NaN</td>\n",
       "      <td>2346</td>\n",
       "      <td>0.0</td>\n",
       "      <td>0.0</td>\n",
       "      <td>Individual</td>\n",
       "      <td>591</td>\n",
       "      <td>27455</td>\n",
       "      <td>0</td>\n",
       "      <td>0</td>\n",
       "    </tr>\n",
       "    <tr>\n",
       "      <th>4</th>\n",
       "      <td>NaN</td>\n",
       "      <td>6000</td>\n",
       "      <td>36 months</td>\n",
       "      <td>13.49%</td>\n",
       "      <td>203.59</td>\n",
       "      <td>C</td>\n",
       "      <td>C2</td>\n",
       "      <td>SERVICE MGR</td>\n",
       "      <td>5 years</td>\n",
       "      <td>RENT</td>\n",
       "      <td>...</td>\n",
       "      <td>0</td>\n",
       "      <td>NaN</td>\n",
       "      <td>4576</td>\n",
       "      <td>0.0</td>\n",
       "      <td>0.0</td>\n",
       "      <td>Individual</td>\n",
       "      <td>0</td>\n",
       "      <td>15393</td>\n",
       "      <td>0</td>\n",
       "      <td>0</td>\n",
       "    </tr>\n",
       "  </tbody>\n",
       "</table>\n",
       "<p>5 rows × 26 columns</p>\n",
       "</div>"
      ],
      "text/plain": [
       "   member_Id  loan_amnt        term int_rate  installment grade sub_grade  \\\n",
       "0        NaN       6000   36 months   13.99%       205.04     C        C3   \n",
       "1        NaN      25000   60 months   14.49%       588.08     C        C4   \n",
       "2        NaN      10000   36 months   11.49%       329.72     B        B5   \n",
       "3        NaN       8800   36 months   14.49%       302.87     C        C4   \n",
       "4        NaN       6000   36 months   13.49%       203.59     C        C2   \n",
       "\n",
       "               emp_title emp_length home_ownership     ...       delinq_2yrs  \\\n",
       "0                  Buyer    4 years           RENT     ...                 4   \n",
       "1                    USA  10+ years       MORTGAGE     ...                 0   \n",
       "2                Teacher  10+ years            OWN     ...                 0   \n",
       "3  Customer Coordinator     5 years           RENT     ...                 0   \n",
       "4            SERVICE MGR    5 years           RENT     ...                 0   \n",
       "\n",
       "  mths_since_last_delinq revol_bal total_rec_late_fee recoveries  \\\n",
       "0                    5.0      2289                0.0        0.0   \n",
       "1                   48.0     16315                0.0        0.0   \n",
       "2                    NaN     17209                0.0        0.0   \n",
       "3                    NaN      2346                0.0        0.0   \n",
       "4                    NaN      4576                0.0        0.0   \n",
       "\n",
       "   application_type  tot_coll_amt  tot_cur_bal  chargeoff_within_12_mths  \\\n",
       "0        Individual            71        57571                         0   \n",
       "1        Individual             0       214917                         0   \n",
       "2        Individual          1393        38085                         0   \n",
       "3        Individual           591        27455                         0   \n",
       "4        Individual             0        15393                         0   \n",
       "\n",
       "   delinq_amnt  \n",
       "0            0  \n",
       "1            0  \n",
       "2            0  \n",
       "3            0  \n",
       "4            0  \n",
       "\n",
       "[5 rows x 26 columns]"
      ]
     },
     "execution_count": 14,
     "metadata": {},
     "output_type": "execute_result"
    }
   ],
   "source": [
    "df_ml.head()"
   ]
  },
  {
   "cell_type": "code",
   "execution_count": 15,
   "metadata": {},
   "outputs": [
    {
     "name": "stdout",
     "output_type": "stream",
     "text": [
      "<class 'pandas.core.frame.DataFrame'>\n",
      "RangeIndex: 382442 entries, 0 to 382441\n",
      "Data columns (total 26 columns):\n",
      "member_Id                   283326 non-null float64\n",
      "loan_amnt                   382442 non-null int64\n",
      "term                        382442 non-null object\n",
      "int_rate                    382442 non-null object\n",
      "installment                 382442 non-null float64\n",
      "grade                       382442 non-null object\n",
      "sub_grade                   382442 non-null object\n",
      "emp_title                   358980 non-null object\n",
      "emp_length                  382442 non-null object\n",
      "home_ownership              382442 non-null object\n",
      "annual_inc                  382442 non-null float64\n",
      "issue_d                     382442 non-null object\n",
      "loan_status                 382442 non-null object\n",
      "purpose                     382442 non-null object\n",
      "title                       377013 non-null object\n",
      "dti                         382442 non-null float64\n",
      "delinq_2yrs                 382442 non-null int64\n",
      "mths_since_last_delinq      207821 non-null float64\n",
      "revol_bal                   382442 non-null int64\n",
      "total_rec_late_fee          382442 non-null float64\n",
      "recoveries                  382442 non-null float64\n",
      "application_type            382442 non-null object\n",
      "tot_coll_amt                382442 non-null int64\n",
      "tot_cur_bal                 382442 non-null int64\n",
      "chargeoff_within_12_mths    382442 non-null int64\n",
      "delinq_amnt                 382442 non-null int64\n",
      "dtypes: float64(7), int64(7), object(12)\n",
      "memory usage: 75.9+ MB\n"
     ]
    }
   ],
   "source": [
    "df_ml.info()"
   ]
  },
  {
   "cell_type": "code",
   "execution_count": 16,
   "metadata": {},
   "outputs": [
    {
     "data": {
      "text/html": [
       "<div>\n",
       "<style>\n",
       "    .dataframe thead tr:only-child th {\n",
       "        text-align: right;\n",
       "    }\n",
       "\n",
       "    .dataframe thead th {\n",
       "        text-align: left;\n",
       "    }\n",
       "\n",
       "    .dataframe tbody tr th {\n",
       "        vertical-align: top;\n",
       "    }\n",
       "</style>\n",
       "<table border=\"1\" class=\"dataframe\">\n",
       "  <thead>\n",
       "    <tr style=\"text-align: right;\">\n",
       "      <th></th>\n",
       "      <th>member_Id</th>\n",
       "      <th>loan_amnt</th>\n",
       "      <th>installment</th>\n",
       "      <th>annual_inc</th>\n",
       "      <th>dti</th>\n",
       "      <th>delinq_2yrs</th>\n",
       "      <th>mths_since_last_delinq</th>\n",
       "      <th>revol_bal</th>\n",
       "      <th>total_rec_late_fee</th>\n",
       "      <th>recoveries</th>\n",
       "      <th>tot_coll_amt</th>\n",
       "      <th>tot_cur_bal</th>\n",
       "      <th>chargeoff_within_12_mths</th>\n",
       "      <th>delinq_amnt</th>\n",
       "    </tr>\n",
       "  </thead>\n",
       "  <tbody>\n",
       "    <tr>\n",
       "      <th>count</th>\n",
       "      <td>2.833260e+05</td>\n",
       "      <td>382442.000000</td>\n",
       "      <td>382442.000000</td>\n",
       "      <td>3.824420e+05</td>\n",
       "      <td>382442.000000</td>\n",
       "      <td>382442.000000</td>\n",
       "      <td>207821.000000</td>\n",
       "      <td>3.824420e+05</td>\n",
       "      <td>3.824420e+05</td>\n",
       "      <td>382442.000000</td>\n",
       "      <td>382442.000000</td>\n",
       "      <td>3.824420e+05</td>\n",
       "      <td>382442.000000</td>\n",
       "      <td>382442.000000</td>\n",
       "    </tr>\n",
       "    <tr>\n",
       "      <th>mean</th>\n",
       "      <td>9.980423e+07</td>\n",
       "      <td>14423.288564</td>\n",
       "      <td>438.127629</td>\n",
       "      <td>8.037915e+04</td>\n",
       "      <td>18.586832</td>\n",
       "      <td>0.363888</td>\n",
       "      <td>33.424755</td>\n",
       "      <td>1.638984e+04</td>\n",
       "      <td>6.401344e-01</td>\n",
       "      <td>17.484827</td>\n",
       "      <td>259.711219</td>\n",
       "      <td>1.449824e+05</td>\n",
       "      <td>0.008956</td>\n",
       "      <td>21.415216</td>\n",
       "    </tr>\n",
       "    <tr>\n",
       "      <th>std</th>\n",
       "      <td>7.214992e+06</td>\n",
       "      <td>9242.583576</td>\n",
       "      <td>278.996672</td>\n",
       "      <td>7.486363e+04</td>\n",
       "      <td>11.784556</td>\n",
       "      <td>0.961407</td>\n",
       "      <td>21.857898</td>\n",
       "      <td>2.270636e+04</td>\n",
       "      <td>6.062005e+00</td>\n",
       "      <td>253.692748</td>\n",
       "      <td>2415.577739</td>\n",
       "      <td>1.635759e+05</td>\n",
       "      <td>0.106483</td>\n",
       "      <td>932.162478</td>\n",
       "    </tr>\n",
       "    <tr>\n",
       "      <th>min</th>\n",
       "      <td>4.012430e+05</td>\n",
       "      <td>1000.000000</td>\n",
       "      <td>30.120000</td>\n",
       "      <td>1.000000e+00</td>\n",
       "      <td>-1.000000</td>\n",
       "      <td>0.000000</td>\n",
       "      <td>0.000000</td>\n",
       "      <td>0.000000e+00</td>\n",
       "      <td>-1.360000e-08</td>\n",
       "      <td>0.000000</td>\n",
       "      <td>0.000000</td>\n",
       "      <td>0.000000e+00</td>\n",
       "      <td>0.000000</td>\n",
       "      <td>0.000000</td>\n",
       "    </tr>\n",
       "    <tr>\n",
       "      <th>25%</th>\n",
       "      <td>9.404694e+07</td>\n",
       "      <td>7200.000000</td>\n",
       "      <td>235.240000</td>\n",
       "      <td>4.800000e+04</td>\n",
       "      <td>12.220000</td>\n",
       "      <td>0.000000</td>\n",
       "      <td>15.000000</td>\n",
       "      <td>5.937000e+03</td>\n",
       "      <td>0.000000e+00</td>\n",
       "      <td>0.000000</td>\n",
       "      <td>0.000000</td>\n",
       "      <td>2.979200e+04</td>\n",
       "      <td>0.000000</td>\n",
       "      <td>0.000000</td>\n",
       "    </tr>\n",
       "    <tr>\n",
       "      <th>50%</th>\n",
       "      <td>9.737803e+07</td>\n",
       "      <td>12000.000000</td>\n",
       "      <td>361.930000</td>\n",
       "      <td>6.773540e+04</td>\n",
       "      <td>18.010000</td>\n",
       "      <td>0.000000</td>\n",
       "      <td>30.000000</td>\n",
       "      <td>1.103100e+04</td>\n",
       "      <td>0.000000e+00</td>\n",
       "      <td>0.000000</td>\n",
       "      <td>0.000000</td>\n",
       "      <td>8.130100e+04</td>\n",
       "      <td>0.000000</td>\n",
       "      <td>0.000000</td>\n",
       "    </tr>\n",
       "    <tr>\n",
       "      <th>75%</th>\n",
       "      <td>1.070578e+08</td>\n",
       "      <td>20000.000000</td>\n",
       "      <td>583.910000</td>\n",
       "      <td>9.600000e+04</td>\n",
       "      <td>24.360000</td>\n",
       "      <td>0.000000</td>\n",
       "      <td>48.000000</td>\n",
       "      <td>1.958000e+04</td>\n",
       "      <td>0.000000e+00</td>\n",
       "      <td>0.000000</td>\n",
       "      <td>0.000000</td>\n",
       "      <td>2.162525e+05</td>\n",
       "      <td>0.000000</td>\n",
       "      <td>0.000000</td>\n",
       "    </tr>\n",
       "    <tr>\n",
       "      <th>max</th>\n",
       "      <td>1.124413e+08</td>\n",
       "      <td>40000.000000</td>\n",
       "      <td>1719.830000</td>\n",
       "      <td>9.522972e+06</td>\n",
       "      <td>999.000000</td>\n",
       "      <td>42.000000</td>\n",
       "      <td>195.000000</td>\n",
       "      <td>1.698749e+06</td>\n",
       "      <td>3.680800e+02</td>\n",
       "      <td>37153.460000</td>\n",
       "      <td>932461.000000</td>\n",
       "      <td>8.524709e+06</td>\n",
       "      <td>8.000000</td>\n",
       "      <td>185408.000000</td>\n",
       "    </tr>\n",
       "  </tbody>\n",
       "</table>\n",
       "</div>"
      ],
      "text/plain": [
       "          member_Id      loan_amnt    installment    annual_inc  \\\n",
       "count  2.833260e+05  382442.000000  382442.000000  3.824420e+05   \n",
       "mean   9.980423e+07   14423.288564     438.127629  8.037915e+04   \n",
       "std    7.214992e+06    9242.583576     278.996672  7.486363e+04   \n",
       "min    4.012430e+05    1000.000000      30.120000  1.000000e+00   \n",
       "25%    9.404694e+07    7200.000000     235.240000  4.800000e+04   \n",
       "50%    9.737803e+07   12000.000000     361.930000  6.773540e+04   \n",
       "75%    1.070578e+08   20000.000000     583.910000  9.600000e+04   \n",
       "max    1.124413e+08   40000.000000    1719.830000  9.522972e+06   \n",
       "\n",
       "                 dti    delinq_2yrs  mths_since_last_delinq     revol_bal  \\\n",
       "count  382442.000000  382442.000000           207821.000000  3.824420e+05   \n",
       "mean       18.586832       0.363888               33.424755  1.638984e+04   \n",
       "std        11.784556       0.961407               21.857898  2.270636e+04   \n",
       "min        -1.000000       0.000000                0.000000  0.000000e+00   \n",
       "25%        12.220000       0.000000               15.000000  5.937000e+03   \n",
       "50%        18.010000       0.000000               30.000000  1.103100e+04   \n",
       "75%        24.360000       0.000000               48.000000  1.958000e+04   \n",
       "max       999.000000      42.000000              195.000000  1.698749e+06   \n",
       "\n",
       "       total_rec_late_fee     recoveries   tot_coll_amt   tot_cur_bal  \\\n",
       "count        3.824420e+05  382442.000000  382442.000000  3.824420e+05   \n",
       "mean         6.401344e-01      17.484827     259.711219  1.449824e+05   \n",
       "std          6.062005e+00     253.692748    2415.577739  1.635759e+05   \n",
       "min         -1.360000e-08       0.000000       0.000000  0.000000e+00   \n",
       "25%          0.000000e+00       0.000000       0.000000  2.979200e+04   \n",
       "50%          0.000000e+00       0.000000       0.000000  8.130100e+04   \n",
       "75%          0.000000e+00       0.000000       0.000000  2.162525e+05   \n",
       "max          3.680800e+02   37153.460000  932461.000000  8.524709e+06   \n",
       "\n",
       "       chargeoff_within_12_mths    delinq_amnt  \n",
       "count             382442.000000  382442.000000  \n",
       "mean                   0.008956      21.415216  \n",
       "std                    0.106483     932.162478  \n",
       "min                    0.000000       0.000000  \n",
       "25%                    0.000000       0.000000  \n",
       "50%                    0.000000       0.000000  \n",
       "75%                    0.000000       0.000000  \n",
       "max                    8.000000  185408.000000  "
      ]
     },
     "execution_count": 16,
     "metadata": {},
     "output_type": "execute_result"
    }
   ],
   "source": [
    "df_ml.describe()\n"
   ]
  },
  {
   "cell_type": "code",
   "execution_count": 17,
   "metadata": {},
   "outputs": [
    {
     "data": {
      "text/plain": [
       "<matplotlib.axes._subplots.AxesSubplot at 0x121fad438>"
      ]
     },
     "execution_count": 17,
     "metadata": {},
     "output_type": "execute_result"
    },
    {
     "data": {
      "image/png": "[encoded data removed]",
      "text/plain": [
       "<matplotlib.figure.Figure at 0x121f8dc50>"
      ]
     },
     "metadata": {},
     "output_type": "display_data"
    }
   ],
   "source": [
    "sns.heatmap(df_ml.corr())"
   ]
  },
  {
   "cell_type": "code",
   "execution_count": 18,
   "metadata": {},
   "outputs": [
    {
     "data": {
      "text/plain": [
       "Index(['member_Id', 'loan_amnt', 'term', 'int_rate', 'installment', 'grade',\n",
       "       'sub_grade', 'emp_title', 'emp_length', 'home_ownership', 'annual_inc',\n",
       "       'issue_d', 'loan_status', 'purpose', 'title', 'dti', 'delinq_2yrs',\n",
       "       'mths_since_last_delinq', 'revol_bal', 'total_rec_late_fee',\n",
       "       'recoveries', 'application_type', 'tot_coll_amt', 'tot_cur_bal',\n",
       "       'chargeoff_within_12_mths', 'delinq_amnt'],\n",
       "      dtype='object')"
      ]
     },
     "execution_count": 18,
     "metadata": {},
     "output_type": "execute_result"
    }
   ],
   "source": [
    "df_ml.columns"
   ]
  },
  {
   "cell_type": "code",
   "execution_count": 19,
   "metadata": {
    "collapsed": true
   },
   "outputs": [],
   "source": [
    "X = df_ml[['annual_inc','dti']]"
   ]
  },
  {
   "cell_type": "code",
   "execution_count": 20,
   "metadata": {
    "collapsed": true
   },
   "outputs": [],
   "source": [
    "y = df_ml['loan_amnt']"
   ]
  },
  {
   "cell_type": "code",
   "execution_count": 21,
   "metadata": {
    "collapsed": true
   },
   "outputs": [],
   "source": [
    "from sklearn.model_selection import train_test_split"
   ]
  },
  {
   "cell_type": "code",
   "execution_count": 22,
   "metadata": {
    "collapsed": true
   },
   "outputs": [],
   "source": [
    "X_train, X_test, y_train, y_test = train_test_split(X, y, test_size=0.1, random_state=154)"
   ]
  },
  {
   "cell_type": "code",
   "execution_count": 23,
   "metadata": {
    "collapsed": true
   },
   "outputs": [],
   "source": [
    "from sklearn.linear_model import LinearRegression"
   ]
  },
  {
   "cell_type": "code",
   "execution_count": 24,
   "metadata": {
    "collapsed": true
   },
   "outputs": [],
   "source": [
    "lm = LinearRegression()"
   ]
  },
  {
   "cell_type": "code",
   "execution_count": 25,
   "metadata": {},
   "outputs": [
    {
     "data": {
      "text/plain": [
       "LinearRegression(copy_X=True, fit_intercept=True, n_jobs=1, normalize=False)"
      ]
     },
     "execution_count": 25,
     "metadata": {},
     "output_type": "execute_result"
    }
   ],
   "source": [
    "lm.fit(X_train,y_train)"
   ]
  },
  {
   "cell_type": "code",
   "execution_count": 26,
   "metadata": {},
   "outputs": [
    {
     "name": "stdout",
     "output_type": "stream",
     "text": [
      "10007.7267049\n"
     ]
    }
   ],
   "source": [
    "# print the intercept\n",
    "print(lm.intercept_)"
   ]
  },
  {
   "cell_type": "code",
   "execution_count": 27,
   "metadata": {},
   "outputs": [
    {
     "data": {
      "text/html": [
       "<div>\n",
       "<style>\n",
       "    .dataframe thead tr:only-child th {\n",
       "        text-align: right;\n",
       "    }\n",
       "\n",
       "    .dataframe thead th {\n",
       "        text-align: left;\n",
       "    }\n",
       "\n",
       "    .dataframe tbody tr th {\n",
       "        vertical-align: top;\n",
       "    }\n",
       "</style>\n",
       "<table border=\"1\" class=\"dataframe\">\n",
       "  <thead>\n",
       "    <tr style=\"text-align: right;\">\n",
       "      <th></th>\n",
       "      <th>Coefficient</th>\n",
       "    </tr>\n",
       "  </thead>\n",
       "  <tbody>\n",
       "    <tr>\n",
       "      <th>annual_inc</th>\n",
       "      <td>0.040749</td>\n",
       "    </tr>\n",
       "    <tr>\n",
       "      <th>dti</th>\n",
       "      <td>61.367990</td>\n",
       "    </tr>\n",
       "  </tbody>\n",
       "</table>\n",
       "</div>"
      ],
      "text/plain": [
       "            Coefficient\n",
       "annual_inc     0.040749\n",
       "dti           61.367990"
      ]
     },
     "execution_count": 27,
     "metadata": {},
     "output_type": "execute_result"
    }
   ],
   "source": [
    "coeff_df = pd.DataFrame(lm.coef_,X.columns,columns=['Coefficient'])\n",
    "coeff_df"
   ]
  },
  {
   "cell_type": "code",
   "execution_count": 28,
   "metadata": {
    "collapsed": true
   },
   "outputs": [],
   "source": [
    "predictions = lm.predict(X_test)"
   ]
  },
  {
   "cell_type": "code",
   "execution_count": 29,
   "metadata": {},
   "outputs": [
    {
     "data": {
      "text/plain": [
       "<matplotlib.collections.PathCollection at 0x11e533198>"
      ]
     },
     "execution_count": 29,
     "metadata": {},
     "output_type": "execute_result"
    },
    {
     "data": {
      "image/png": "[encoded data removed]",
      "text/plain": [
       "<matplotlib.figure.Figure at 0x11d574128>"
      ]
     },
     "metadata": {},
     "output_type": "display_data"
    }
   ],
   "source": [
    "plt.scatter(y_test,predictions)"
   ]
  },
  {
   "cell_type": "code",
   "execution_count": 30,
   "metadata": {},
   "outputs": [
    {
     "data": {
      "image/png": "[encoded data removed]",
      "text/plain": [
       "<matplotlib.figure.Figure at 0x11e546908>"
      ]
     },
     "metadata": {},
     "output_type": "display_data"
    }
   ],
   "source": [
    "sns.distplot((y_test-predictions));"
   ]
  },
  {
   "cell_type": "code",
   "execution_count": 31,
   "metadata": {
    "collapsed": true
   },
   "outputs": [],
   "source": [
    "from sklearn import metrics"
   ]
  },
  {
   "cell_type": "code",
   "execution_count": 32,
   "metadata": {},
   "outputs": [
    {
     "name": "stdout",
     "output_type": "stream",
     "text": [
      "MAE: 6825.50660086\n",
      "MSE: 73930561.4048\n",
      "RMSE: 8598.28828342\n"
     ]
    }
   ],
   "source": [
    "#metrics to check the regression\n",
    "print('MAE:', metrics.mean_absolute_error(y_test, predictions))\n",
    "print('MSE:', metrics.mean_squared_error(y_test, predictions))\n",
    "print('RMSE:', np.sqrt(metrics.mean_squared_error(y_test, predictions)))"
   ]
  },
  {
   "cell_type": "code",
   "execution_count": null,
   "metadata": {
    "collapsed": true
   },
   "outputs": [],
   "source": []
  }
 ],
 "metadata": {
  "kernelspec": {
   "display_name": "Python 3",
   "language": "python",
   "name": "python3"
  },
  "language_info": {
   "codemirror_mode": {
    "name": "ipython",
    "version": 3
   },
   "file_extension": ".py",
   "mimetype": "text/x-python",
   "name": "python",
   "nbconvert_exporter": "python",
   "pygments_lexer": "ipython3",
   "version": "3.6.1"
  }
 },
 "nbformat": 4,
 "nbformat_minor": 2
}
