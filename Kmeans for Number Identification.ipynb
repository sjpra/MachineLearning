{
 "cells": [
  {
   "cell_type": "code",
   "execution_count": 20,
   "metadata": {
    "collapsed": true
   },
   "outputs": [],
   "source": [
    "import os\n",
    "import struct\n",
    "import numpy as np\n",
    "from sklearn.neighbors import KNeighborsClassifier\n",
    "%matplotlib inline"
   ]
  },
  {
   "cell_type": "code",
   "execution_count": 21,
   "metadata": {},
   "outputs": [],
   "source": [
    "class NearestNeighborClassifier(object):\n",
    "    \"\"\"A generic k-nearest neighbor predictor.\n",
    "\n",
    "    You need to extend this class and implement distance(from, to)\n",
    "    and consensus(label_list) in order to make this functional.\"\"\"\n",
    "    \n",
    "    def __init__(self, dataset, k):\n",
    "        \"\"\"Create a new nearest neighbor classifier.\n",
    "\n",
    "        dataset - a list of data points. Each data point is an (x, y) pair,\n",
    "                  where x is the input and y is the label.\n",
    "        k - the number of neighbors to search for.\"\"\"\n",
    "        # Note how we don't have to do any initialization!\n",
    "        # Once we have a dataset, we can immediately get predictions on new values.\n",
    "        self.dataset = dataset\n",
    "        self.k = k\n",
    "        \n",
    "    def predict(self, point):\n",
    "        \"\"\"Return the k-nearest neighbor prediction for a point.\"\"\"\n",
    "        # Compute distances to every point in the data set.\n",
    "        distances = [self.distance(x[0], point) for x in self.dataset]\n",
    "        \n",
    "        # Naive approach: sort based on distances, take the first k elements.\n",
    "        values = zip(distances, self.dataset)\n",
    "        values.sort(key = lambda val: val[0])\n",
    "        \n",
    "        # Predict by averaging the closets k elements.\n",
    "        prediction = self.consensus([value[1][1] for value in values[0:k]])\n",
    "        return prediction"
   ]
  },
  {
   "cell_type": "code",
   "execution_count": 22,
   "metadata": {
    "collapsed": true
   },
   "outputs": [],
   "source": [
    "def predict(self, point):\n",
    "    # We have to copy the data set list, because once we've located the best\n",
    "    # candidate from it, we don't want to see that candidate again, so we'll delete it.\n",
    "    candidates = self.dataset[:]\n",
    "    \n",
    "    # Loop until we've gotten all the neighbors we want.\n",
    "    neighbors = []\n",
    "    while len(neighbors) < self.k:\n",
    "        # Compute distances to every candidate.\n",
    "        distances = [self.distance(x[0], point) for x in candidates]\n",
    "        \n",
    "        # Find the minimum distance neighbor.\n",
    "        best_distance = min(distances)\n",
    "        index = distances.index(best_distance)\n",
    "        neighbors.append(candidates[index])\n",
    "        \n",
    "        # Remove the neighbor from the candidates list.\n",
    "        del candidates[index]\n",
    "    \n",
    "    # Predict by averaging the closets k elements.\n",
    "    prediction = self.consensus([value[1] for value in neighbors])\n",
    "    return prediction\n",
    "        \n",
    "# Let's go ahead and replace the old implementation.\n",
    "NearestNeighborClassifier.predict = predict"
   ]
  },
  {
   "cell_type": "code",
   "execution_count": 23,
   "metadata": {
    "collapsed": true
   },
   "outputs": [],
   "source": [
    "import subprocess\n",
    "\n",
    "def download(url):\n",
    "    \"\"\"Download a GZIP archive, return the data as a byte string.\"\"\"\n",
    "    # Do the download by shelling out to curl.\n",
    "    cmd = 'curl \"%s\" | gzip -d' % url\n",
    "    return subprocess.check_output(cmd, shell=True)\n",
    "\n",
    "def get_files():\n",
    "    \"\"\"Download MNIST files from the internet.\"\"\"\n",
    "    url_format = \"http://yann.lecun.com/exdb/mnist/%s-%s-idx%d-ubyte.gz\"\n",
    "    files = [(\"train\", \"images\", 3), (\"train\", \"labels\", 1),\n",
    "             (\"t10k\", \"images\", 3), (\"t10k\", \"labels\", 1)]\n",
    "    \n",
    "    urls = [url_format % values for values in files]\n",
    "    data = [download(url) for url in urls]\n",
    "    return data\n",
    "\n",
    "data = get_files()"
   ]
  },
  {
   "cell_type": "code",
   "execution_count": 24,
   "metadata": {
    "collapsed": true
   },
   "outputs": [],
   "source": [
    "import struct\n",
    "from numpy import *\n",
    "\n",
    "def parse_labels(data):\n",
    "    \"\"\"Parse labels from the binary file.\"\"\"\n",
    "    \n",
    "    # We're going to use the Python 'struct' package. \n",
    "    # This is an incredibly nice package which allows us to specify the format\n",
    "    # our data is in, and then automatically parses the data from the string.\n",
    "    # Let's start by getting the magic number and the length: the first character\n",
    "    # represents the endianness of the data (in our case, '>' for big endian), while\n",
    "    # the next characters are the format string ('2i' for two integers).\n",
    "    magic, n = struct.unpack_from('>2i', data)\n",
    "    assert magic == 2049, \"Wrong magic number: %d\" % magic\n",
    "    \n",
    "    # Next, let's extract the labels.\n",
    "    labels = struct.unpack_from('>%dB' % n, data, offset=8)\n",
    "    return labels\n",
    "    \n",
    "def parse_images(data):\n",
    "    \"\"\"Parse images from the binary file.\"\"\"\n",
    "    \n",
    "    # Parse metadata.\n",
    "    magic, n, rows, cols = struct.unpack_from('>4i', data)\n",
    "    assert magic == 2051, \"Wrong magic number: %d\" % magic\n",
    "    \n",
    "    # Get all the pixel intensity values.\n",
    "    num_pixels = n * rows * cols\n",
    "    pixels = struct.unpack_from('>%dB' % num_pixels, data, offset=16)\n",
    "    \n",
    "    # Convert this data to a NumPy array for ease of use.\n",
    "    pixels = asarray(pixels, dtype=ubyte)\n",
    "    \n",
    "    # Reshape into actual images instead of a 1-D array of pixels.\n",
    "    images = pixels.reshape((n, cols, rows))\n",
    "    return images\n",
    "\n",
    "train_images = parse_images(data[0])\n",
    "train_labels = parse_labels(data[1])\n",
    "test_images = parse_images(data[2])\n",
    "test_labels = parse_labels(data[3])"
   ]
  },
  {
   "cell_type": "code",
   "execution_count": 25,
   "metadata": {},
   "outputs": [
    {
     "data": {
      "image/png": "[encoded data removed]",
      "text/plain": [
       "<matplotlib.figure.Figure at 0x10e4ff860>"
      ]
     },
     "metadata": {},
     "output_type": "display_data"
    }
   ],
   "source": [
    "from matplotlib.pyplot import *\n",
    "\n",
    "# Get the figure and axes.\n",
    "fig, axes = subplots(5, 5)\n",
    "axes = axes.reshape(25)\n",
    "fig.suptitle(\"Random Sampling of MNIST\")\n",
    "\n",
    "# Plot random images.\n",
    "indices = random.randint(len(train_images), size=25)\n",
    "for axis, index in zip(axes, indices):\n",
    "    image = train_images[index, :, :]\n",
    "    axis.get_xaxis().set_visible(False)\n",
    "    axis.get_yaxis().set_visible(False)\n",
    "    axis.imshow(image, cmap = cm.Greys_r)"
   ]
  },
  {
   "cell_type": "code",
   "execution_count": 12,
   "metadata": {
    "collapsed": true
   },
   "outputs": [],
   "source": [
    "def euclidean_distance(img1, img2):\n",
    "    # Since we're using NumPy arrays, all our operations are automatically vectorized.\n",
    "    # A breakdown of this expression:\n",
    "    #     img1 - img2 is the pixel-wise difference between the images\n",
    "    #     (img1 - img2) ** 2 is the same thing, with each value squared\n",
    "    #     sum((img1 - img2) ** 2) is the sum of the elements in the matrix.\n",
    "    return sum((img1 - img2) ** 2)"
   ]
  },
  {
   "cell_type": "code",
   "execution_count": 13,
   "metadata": {
    "collapsed": true
   },
   "outputs": [],
   "source": [
    "from collections import defaultdict\n",
    "def get_majority(votes):\n",
    "    # For convenience, we're going to use a defaultdict.\n",
    "    # This is just a dictionary where values are initialized to zero\n",
    "    # if they don't exist.\n",
    "    counter = defaultdict(int)\n",
    "    for vote in votes:\n",
    "        # If this weren't a defaultdict, this would error on new vote values.\n",
    "        counter[vote] += 1\n",
    "    \n",
    "    # Find out who was the majority.\n",
    "    majority_count = max(counter.values())\n",
    "    for key, value in counter.items():\n",
    "        if value == majority_count:\n",
    "            return key"
   ]
  },
  {
   "cell_type": "code",
   "execution_count": 15,
   "metadata": {},
   "outputs": [],
   "source": [
    "# Create the predictor class.\n",
    "class MNISTPredictor(NearestNeighborClassifier):\n",
    "    def distance(self, p1, p2):\n",
    "        return euclidean_distance(p1, p2)\n",
    "    \n",
    "    def consensus(self, values):\n",
    "        return get_majority(values)\n",
    "    \n",
    "# Convert our data set into an easy format to use.\n",
    "# This is a list of (x, y) pairs. x is an image, y is a label.\n",
    "dataset = []\n",
    "for i in range(len(train_images)):\n",
    "    dataset.append((train_images[i, :, :], train_labels[i]))\n",
    "    \n",
    "# Create a predictor for various values of k.\n",
    "ks = [1, 2, 3, 4, 5, 6]\n",
    "predictors = [MNISTPredictor(dataset, k) for k in ks] "
   ]
  },
  {
   "cell_type": "code",
   "execution_count": 17,
   "metadata": {},
   "outputs": [],
   "source": [
    "def predict_test_set(predictor, test_set):\n",
    "    \"\"\"Compute the prediction for every element of the test set.\"\"\"\n",
    "    predictions = [predictor.predict(test_set[i, :, :]) \n",
    "                   for i in range(len(test_set))]\n",
    "    return predictions\n",
    "\n",
    "# Choose a subset of the test set. Otherwise this will never finish.\n",
    "test_set = test_images[0:100, :, :]\n",
    "all_predictions = [predict_test_set(predictor, test_set) for predictor in predictors]"
   ]
  },
  {
   "cell_type": "code",
   "execution_count": 26,
   "metadata": {},
   "outputs": [
    {
     "data": {
      "image/png": "[encoded data removed]",
      "text/plain": [
       "<matplotlib.figure.Figure at 0x11f22b668>"
      ]
     },
     "metadata": {},
     "output_type": "display_data"
    }
   ],
   "source": [
    "import matplotlib.pyplot as plt\n",
    "\n",
    "def evaluate_prediction(predictions, answers):\n",
    "    \"\"\"Compute how many were identical in the answers and predictions,\n",
    "    and divide this by the number of predictions to get a percentage.\"\"\"\n",
    "    correct = sum(asarray(predictions) == asarray(answers))\n",
    "    total = float(prod(answers.shape))\n",
    "    return correct / total\n",
    "\n",
    "labels = asarray(test_labels[0:100])\n",
    "accuracies = [evaluate_prediction(pred, labels) for pred in all_predictions]\n",
    "\n",
    "# Draw the figure.\n",
    "fig = figure(1)\n",
    "plt.plot(ks, accuracies, 'ro', figure=fig)\n",
    "\n",
    "fig.suptitle(\"Nearest Neighbor Classifier Accuracies\")\n",
    "fig.axes[0].set_xlabel(\"k (# of neighbors considered)\")\n",
    "fig.axes[0].set_ylabel(\"accuracy (% correct)\");\n",
    "fig.axes[0].axis([0, max(ks) + 1, 0, 1]);"
   ]
  },
  {
   "cell_type": "code",
   "execution_count": null,
   "metadata": {
    "collapsed": true
   },
   "outputs": [],
   "source": []
  }
 ],
 "metadata": {
  "kernelspec": {
   "display_name": "Python 3",
   "language": "python",
   "name": "python3"
  },
  "language_info": {
   "codemirror_mode": {
    "name": "ipython",
    "version": 3
   },
   "file_extension": ".py",
   "mimetype": "text/x-python",
   "name": "python",
   "nbconvert_exporter": "python",
   "pygments_lexer": "ipython3",
   "version": "3.6.1"
  }
 },
 "nbformat": 4,
 "nbformat_minor": 2
}
